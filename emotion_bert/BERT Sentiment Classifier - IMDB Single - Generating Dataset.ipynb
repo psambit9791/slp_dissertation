{
 "cells": [
  {
   "cell_type": "code",
   "execution_count": 1,
   "metadata": {},
   "outputs": [],
   "source": [
    "import numpy as np\n",
    "import torch\n",
    "import random\n",
    "import pickle\n",
    "import pandas as pd\n",
    "\n",
    "import torch.nn as nn\n",
    "import torch.optim as optim\n",
    "\n",
    "from transformers import BertTokenizer, BertForSequenceClassification\n",
    "from sklearn.metrics import accuracy_score, classification_report, confusion_matrix\n",
    "from sklearn.preprocessing import OneHotEncoder\n",
    "\n",
    "from datasets import load_dataset\n",
    "\n",
    "\n",
    "### https://mccormickml.com/2019/07/22/BERT-fine-tuning/"
   ]
  },
  {
   "cell_type": "code",
   "execution_count": 2,
   "metadata": {},
   "outputs": [],
   "source": [
    "SEED = 42\n",
    "\n",
    "random.seed(SEED)\n",
    "np.random.seed(SEED)\n",
    "torch.manual_seed(SEED)\n",
    "torch.cuda.manual_seed(SEED)\n",
    "torch.backends.cudnn.deterministic = True"
   ]
  },
  {
   "cell_type": "code",
   "execution_count": 3,
   "metadata": {},
   "outputs": [
    {
     "name": "stdout",
     "output_type": "stream",
     "text": [
      "Using GeForce GTX 1060\n"
     ]
    }
   ],
   "source": [
    "if torch.cuda.is_available():\n",
    "    dev = torch.cuda.current_device()\n",
    "    torch.cuda.device(dev)\n",
    "    print(\"Using\", torch.cuda.get_device_name(0))\n",
    "else:\n",
    "    torch.device(\"cpu\")"
   ]
  },
  {
   "cell_type": "markdown",
   "metadata": {},
   "source": [
    "### Processing the data [DailyDialog] to make it task specific"
   ]
  },
  {
   "cell_type": "code",
   "execution_count": 25,
   "metadata": {},
   "outputs": [
    {
     "name": "stderr",
     "output_type": "stream",
     "text": [
      "Reusing dataset imdb (/home/sambit/.cache/huggingface/datasets/imdb/plain_text/1.0.0/90099cb476936b753383ba2ae6ab2eae419b2e87f71cd5189cb9c8e5814d12a3)\n"
     ]
    },
    {
     "name": "stdout",
     "output_type": "stream",
     "text": [
      "DatasetDict({\n",
      "    train: Dataset({\n",
      "        features: ['text', 'label'],\n",
      "        num_rows: 25000\n",
      "    })\n",
      "    test: Dataset({\n",
      "        features: ['text', 'label'],\n",
      "        num_rows: 25000\n",
      "    })\n",
      "    unsupervised: Dataset({\n",
      "        features: ['text', 'label'],\n",
      "        num_rows: 50000\n",
      "    })\n",
      "})\n"
     ]
    }
   ],
   "source": [
    "dataset = load_dataset('imdb')\n",
    "print(dataset)"
   ]
  },
  {
   "cell_type": "code",
   "execution_count": 26,
   "metadata": {},
   "outputs": [
    {
     "name": "stderr",
     "output_type": "stream",
     "text": [
      "Loading cached split indices for dataset at /home/sambit/.cache/huggingface/datasets/imdb/plain_text/1.0.0/90099cb476936b753383ba2ae6ab2eae419b2e87f71cd5189cb9c8e5814d12a3/cache-2c6700c05908a637.arrow and /home/sambit/.cache/huggingface/datasets/imdb/plain_text/1.0.0/90099cb476936b753383ba2ae6ab2eae419b2e87f71cd5189cb9c8e5814d12a3/cache-6c009111a19e094d.arrow\n"
     ]
    }
   ],
   "source": [
    "temp = dataset[\"test\"].train_test_split(test_size=0.5)\n",
    "dataset[\"test\"] = temp[\"test\"]\n",
    "dataset[\"validation\"] = temp[\"train\"]\n",
    "del dataset[\"unsupervised\"]"
   ]
  },
  {
   "cell_type": "code",
   "execution_count": 27,
   "metadata": {},
   "outputs": [
    {
     "data": {
      "text/plain": [
       "DatasetDict({\n",
       "    train: Dataset({\n",
       "        features: ['text', 'label'],\n",
       "        num_rows: 25000\n",
       "    })\n",
       "    test: Dataset({\n",
       "        features: ['text', 'label'],\n",
       "        num_rows: 12500\n",
       "    })\n",
       "    validation: Dataset({\n",
       "        features: ['text', 'label'],\n",
       "        num_rows: 12500\n",
       "    })\n",
       "})"
      ]
     },
     "execution_count": 27,
     "metadata": {},
     "output_type": "execute_result"
    }
   ],
   "source": [
    "dataset"
   ]
  },
  {
   "cell_type": "code",
   "execution_count": 28,
   "metadata": {},
   "outputs": [
    {
     "data": {
      "text/plain": [
       "OrderedDict([('label', [1, 1]),\n",
       "             ('text',\n",
       "              ['Bromwell High is a cartoon comedy. It ran at the same time as some other programs about school life, such as \"Teachers\". My 35 years in the teaching profession lead me to believe that Bromwell High\\'s satire is much closer to reality than is \"Teachers\". The scramble to survive financially, the insightful students who can see right through their pathetic teachers\\' pomp, the pettiness of the whole situation, all remind me of the schools I knew and their students. When I saw the episode in which a student repeatedly tried to burn down the school, I immediately recalled ......... at .......... High. A classic line: INSPECTOR: I\\'m here to sack one of your teachers. STUDENT: Welcome to Bromwell High. I expect that many adults of my age think that Bromwell High is far fetched. What a pity that it isn\\'t!',\n",
       "               'Homelessness (or Houselessness as George Carlin stated) has been an issue for years but never a plan to help those on the street that were once considered human who did everything from going to school, work, or vote for the matter. Most people think of the homeless as just a lost cause while worrying about things such as racism, the war on Iraq, pressuring kids to succeed, technology, the elections, inflation, or worrying if they\\'ll be next to end up on the streets.<br /><br />But what if you were given a bet to live on the streets for a month without the luxuries you once had from a home, the entertainment sets, a bathroom, pictures on the wall, a computer, and everything you once treasure to see what it\\'s like to be homeless? That is Goddard Bolt\\'s lesson.<br /><br />Mel Brooks (who directs) who stars as Bolt plays a rich man who has everything in the world until deciding to make a bet with a sissy rival (Jeffery Tambor) to see if he can live in the streets for thirty days without the luxuries; if Bolt succeeds, he can do what he wants with a future project of making more buildings. The bet\\'s on where Bolt is thrown on the street with a bracelet on his leg to monitor his every move where he can\\'t step off the sidewalk. He\\'s given the nickname Pepto by a vagrant after it\\'s written on his forehead where Bolt meets other characters including a woman by the name of Molly (Lesley Ann Warren) an ex-dancer who got divorce before losing her home, and her pals Sailor (Howard Morris) and Fumes (Teddy Wilson) who are already used to the streets. They\\'re survivors. Bolt isn\\'t. He\\'s not used to reaching mutual agreements like he once did when being rich where it\\'s fight or flight, kill or be killed.<br /><br />While the love connection between Molly and Bolt wasn\\'t necessary to plot, I found \"Life Stinks\" to be one of Mel Brooks\\' observant films where prior to being a comedy, it shows a tender side compared to his slapstick work such as Blazing Saddles, Young Frankenstein, or Spaceballs for the matter, to show what it\\'s like having something valuable before losing it the next day or on the other hand making a stupid bet like all rich people do when they don\\'t know what to do with their money. Maybe they should give it to the homeless instead of using it like Monopoly money.<br /><br />Or maybe this film will inspire you to help others.'])])"
      ]
     },
     "execution_count": 28,
     "metadata": {},
     "output_type": "execute_result"
    }
   ],
   "source": [
    "dataset['train'][:2]"
   ]
  },
  {
   "cell_type": "code",
   "execution_count": 39,
   "metadata": {},
   "outputs": [],
   "source": [
    "def split_data_into_lists(mode):\n",
    "    global dataset\n",
    "    temp_data = dataset[mode]\n",
    "    rows = []\n",
    "    \n",
    "    for i, d in enumerate(temp_data):      \n",
    "        rows.append([d[\"text\"], d[\"label\"]])\n",
    "            \n",
    "    df = pd.DataFrame(data=rows, columns=['text', 'label'])\n",
    "    df.to_csv(\"data/imdb/csv/\"+mode+\".csv\", index=False)"
   ]
  },
  {
   "cell_type": "code",
   "execution_count": 40,
   "metadata": {},
   "outputs": [],
   "source": [
    "### UNCOMMENT IF THE DATA SPLITTING PROCESS IS CHANGED\n",
    "split_data_into_lists(\"test\")\n",
    "split_data_into_lists(\"validation\")\n",
    "split_data_into_lists(\"train\")"
   ]
  },
  {
   "cell_type": "markdown",
   "metadata": {},
   "source": [
    "### Pre-processing for BERT"
   ]
  },
  {
   "cell_type": "code",
   "execution_count": 62,
   "metadata": {},
   "outputs": [
    {
     "name": "stdout",
     "output_type": "stream",
     "text": [
      "[[0. 0.]]\n"
     ]
    }
   ],
   "source": [
    "ohe_emo = OneHotEncoder(handle_unknown='ignore')\n",
    "X = [[0], [1]]\n",
    "ohe_emo.fit(X)\n",
    "\n",
    "# { 0: negative, 1: positive}\n",
    "\n",
    "print(ohe_emo.transform([[4]]).toarray())"
   ]
  },
  {
   "cell_type": "code",
   "execution_count": 48,
   "metadata": {},
   "outputs": [],
   "source": [
    "def load_csv(mode):\n",
    "    df = pd.read_csv(\"data/imdb/csv/\"+mode+\".csv\")\n",
    "    return df\n",
    "\n",
    "# Get the dialog from the generated dataframe\n",
    "def get_cell(df, row, column_name):\n",
    "    return df.loc[df.index[row], column_name]"
   ]
  },
  {
   "cell_type": "markdown",
   "metadata": {},
   "source": [
    "### Loading and tokenizing the data"
   ]
  },
  {
   "cell_type": "code",
   "execution_count": 49,
   "metadata": {},
   "outputs": [],
   "source": [
    "train = load_csv(\"train\")\n",
    "val = load_csv(\"validation\")\n",
    "test = load_csv(\"test\")"
   ]
  },
  {
   "cell_type": "code",
   "execution_count": 51,
   "metadata": {},
   "outputs": [
    {
     "name": "stdout",
     "output_type": "stream",
     "text": [
      "Original: Bromwell High is a cartoon comedy. It ran at the same time as some other programs about school life, such as \"Teachers\". My 35 years in the teaching profession lead me to believe that Bromwell High's satire is much closer to reality than is \"Teachers\". The scramble to survive financially, the insightful students who can see right through their pathetic teachers' pomp, the pettiness of the whole situation, all remind me of the schools I knew and their students. When I saw the episode in which a student repeatedly tried to burn down the school, I immediately recalled ......... at .......... High. A classic line: INSPECTOR: I'm here to sack one of your teachers. STUDENT: Welcome to Bromwell High. I expect that many adults of my age think that Bromwell High is far fetched. What a pity that it isn't!\n",
      "Tokenised: ['bro', '##m', '##well', 'high', 'is', 'a', 'cartoon', 'comedy', '.', 'it', 'ran', 'at', 'the', 'same', 'time', 'as', 'some', 'other', 'programs', 'about', 'school', 'life', ',', 'such', 'as', '\"', 'teachers', '\"', '.', 'my', '35', 'years', 'in', 'the', 'teaching', 'profession', 'lead', 'me', 'to', 'believe', 'that', 'bro', '##m', '##well', 'high', \"'\", 's', 'satire', 'is', 'much', 'closer', 'to', 'reality', 'than', 'is', '\"', 'teachers', '\"', '.', 'the', 'scramble', 'to', 'survive', 'financially', ',', 'the', 'insight', '##ful', 'students', 'who', 'can', 'see', 'right', 'through', 'their', 'pathetic', 'teachers', \"'\", 'po', '##mp', ',', 'the', 'pet', '##tine', '##ss', 'of', 'the', 'whole', 'situation', ',', 'all', 'remind', 'me', 'of', 'the', 'schools', 'i', 'knew', 'and', 'their', 'students', '.', 'when', 'i', 'saw', 'the', 'episode', 'in', 'which', 'a', 'student', 'repeatedly', 'tried', 'to', 'burn', 'down', 'the', 'school', ',', 'i', 'immediately', 'recalled', '.', '.', '.', '.', '.', '.', '.', '.', '.', 'at', '.', '.', '.', '.', '.', '.', '.', '.', '.', '.', 'high', '.', 'a', 'classic', 'line', ':', 'inspector', ':', 'i', \"'\", 'm', 'here', 'to', 'sack', 'one', 'of', 'your', 'teachers', '.', 'student', ':', 'welcome', 'to', 'bro', '##m', '##well', 'high', '.', 'i', 'expect', 'that', 'many', 'adults', 'of', 'my', 'age', 'think', 'that', 'bro', '##m', '##well', 'high', 'is', 'far', 'fetch', '##ed', '.', 'what', 'a', 'pity', 'that', 'it', 'isn', \"'\", 't', '!']\n",
      "Token ID: [22953, 2213, 4381, 2152, 2003, 1037, 9476, 4038, 1012, 2009, 2743, 2012, 1996, 2168, 2051, 2004, 2070, 2060, 3454, 2055, 2082, 2166, 1010, 2107, 2004, 1000, 5089, 1000, 1012, 2026, 3486, 2086, 1999, 1996, 4252, 9518, 2599, 2033, 2000, 2903, 2008, 22953, 2213, 4381, 2152, 1005, 1055, 18312, 2003, 2172, 3553, 2000, 4507, 2084, 2003, 1000, 5089, 1000, 1012, 1996, 25740, 2000, 5788, 13732, 1010, 1996, 12369, 3993, 2493, 2040, 2064, 2156, 2157, 2083, 2037, 17203, 5089, 1005, 13433, 8737, 1010, 1996, 9004, 10196, 4757, 1997, 1996, 2878, 3663, 1010, 2035, 10825, 2033, 1997, 1996, 2816, 1045, 2354, 1998, 2037, 2493, 1012, 2043, 1045, 2387, 1996, 2792, 1999, 2029, 1037, 3076, 8385, 2699, 2000, 6402, 2091, 1996, 2082, 1010, 1045, 3202, 7383, 1012, 1012, 1012, 1012, 1012, 1012, 1012, 1012, 1012, 2012, 1012, 1012, 1012, 1012, 1012, 1012, 1012, 1012, 1012, 1012, 2152, 1012, 1037, 4438, 2240, 1024, 7742, 1024, 1045, 1005, 1049, 2182, 2000, 12803, 2028, 1997, 2115, 5089, 1012, 3076, 1024, 6160, 2000, 22953, 2213, 4381, 2152, 1012, 1045, 5987, 2008, 2116, 6001, 1997, 2026, 2287, 2228, 2008, 22953, 2213, 4381, 2152, 2003, 2521, 18584, 2098, 1012, 2054, 1037, 12063, 2008, 2009, 3475, 1005, 1056, 999]\n"
     ]
    }
   ],
   "source": [
    "tokenizer = BertTokenizer.from_pretrained('bert-base-uncased', do_lower_case=True)\n",
    "sentence = get_cell(train, 0, \"text\")\n",
    "print(\"Original:\", sentence)\n",
    "tokenized = tokenizer.tokenize(sentence)\n",
    "print(\"Tokenised:\", tokenized)\n",
    "tokenided = tokenizer.convert_tokens_to_ids(tokenized)\n",
    "print(\"Token ID:\", tokenided)"
   ]
  },
  {
   "cell_type": "code",
   "execution_count": 63,
   "metadata": {},
   "outputs": [],
   "source": [
    "# Tokenize the current and previous dialog for a specific row\n",
    "# Can return emotion data or act data depending on \"mode\"\n",
    "\n",
    "max_previous_length = 0\n",
    "max_current_length = 0\n",
    "\n",
    "def get_processed_row(df, row, mode=\"emo\"):\n",
    "    global  max_previous_length\n",
    "    global max_current_length\n",
    "    \n",
    "    sentence = get_cell(df, row, \"text\")\n",
    "    tokenized = tokenizer.tokenize(sentence)\n",
    "    tokenided_c = tokenizer.convert_tokens_to_ids(tokenized)\n",
    "    \n",
    "    if len(tokenided_c) > max_current_length:\n",
    "        max_current_length = len(tokenided_c)\n",
    "    \n",
    "    label = ohe_emo.transform([[get_cell(df, row, \"label\")]]).toarray().flatten().tolist()\n",
    "    \n",
    "    return tokenided_c, label\n",
    "\n",
    "\n",
    "# Save the sentence with one hot encoded labels (can be used with encode_plus)\n",
    "\n",
    "def get_unprocessed_row(df, row):\n",
    "    global  max_previous_length\n",
    "    global max_current_length\n",
    "    \n",
    "    sentence_c = get_cell(df, row, \"text\")\n",
    "    \n",
    "    label = get_cell(df, row, \"label\")\n",
    "\n",
    "    \n",
    "    return sentence_c, label"
   ]
  },
  {
   "cell_type": "code",
   "execution_count": 64,
   "metadata": {},
   "outputs": [],
   "source": [
    "### Save tokenised data\n",
    "\n",
    "def save_to_pkl(data, mode, dataset=\"emo\"):\n",
    "    with open(\"data/imdb/pkl/\"+mode+\"_\"+dataset+\".pkl\", \"wb\") as f:\n",
    "        pickle.dump(data, f)\n",
    "\n",
    "def save_to_sent(data, mode, dataset=\"emo\"):\n",
    "    with open(\"data/imdb/sent/\"+mode+\"_\"+dataset+\".pkl\", \"wb\") as f:\n",
    "        pickle.dump(data, f)"
   ]
  },
  {
   "cell_type": "markdown",
   "metadata": {},
   "source": [
    "### Generating PKLs for Emotion Data & Act Data (Sentences are tokenised)"
   ]
  },
  {
   "cell_type": "code",
   "execution_count": 69,
   "metadata": {},
   "outputs": [],
   "source": [
    "import matplotlib.pyplot as plt\n",
    "\n",
    "def plot_label_dist(label_dict):\n",
    "    cols = label_dict.keys()\n",
    "    vals = label_dict.values()\n",
    "    \n",
    "    print(label_dict)\n",
    "    \n",
    "    plt.bar(cols, vals)\n",
    "    plt.show()\n",
    "\n",
    "def get_label_counts(data):\n",
    "    label_count = {}\n",
    "    for d in data:\n",
    "#         if d[1] == 0:\n",
    "#             continue\n",
    "        try:\n",
    "            label_count[d[1]] += 1\n",
    "        except KeyError:\n",
    "            label_count[d[1]] = 1\n",
    "    return label_count"
   ]
  },
  {
   "cell_type": "code",
   "execution_count": 66,
   "metadata": {
    "scrolled": true
   },
   "outputs": [],
   "source": [
    "train_data = []\n",
    "for i in range(train.shape[0]):\n",
    "    train_data.append(get_processed_row(train, i))\n",
    "    \n",
    "save_to_pkl(train_data, \"train\")\n",
    "\n",
    "val_data = []\n",
    "for i in range(val.shape[0]):\n",
    "    val_data.append(get_processed_row(val, i))\n",
    "save_to_pkl(val_data, \"val\")\n",
    "\n",
    "test_data = []\n",
    "for i in range(test.shape[0]):\n",
    "    test_data.append(get_processed_row(test, i))\n",
    "save_to_pkl(test_data, \"test\")\n",
    "\n",
    "\n",
    "# train_data = []\n",
    "# for i in range(train.shape[0]):\n",
    "#     train_data.append(get_processed_row(train, i, \"act\"))\n",
    "# save_to_pkl(train_data, \"train\", \"act\")\n",
    "\n",
    "# val_data = []\n",
    "# for i in range(val.shape[0]):\n",
    "#     val_data.append(get_processed_row(val, i, \"act\"))\n",
    "# save_to_pkl(val_data, \"val\", \"act\")\n",
    "\n",
    "# test_data = []\n",
    "# for i in range(test.shape[0]):\n",
    "#     test_data.append(get_processed_row(test, i, \"act\"))\n",
    "# save_to_pkl(test_data, \"test\", \"act\")"
   ]
  },
  {
   "cell_type": "markdown",
   "metadata": {},
   "source": [
    "### Generating PKLs for Sentences"
   ]
  },
  {
   "cell_type": "code",
   "execution_count": 67,
   "metadata": {},
   "outputs": [],
   "source": [
    "# Emo data\n",
    "\n",
    "train_data = []\n",
    "for i in range(train.shape[0]):\n",
    "    train_data.append(get_unprocessed_row(train, i))\n",
    "save_to_sent(train_data, \"train\")\n",
    "\n",
    "val_data = []\n",
    "for i in range(val.shape[0]):\n",
    "    val_data.append(get_unprocessed_row(val, i))\n",
    "save_to_sent(val_data, \"val\")\n",
    "\n",
    "test_data = []\n",
    "for i in range(test.shape[0]):\n",
    "    test_data.append(get_unprocessed_row(test, i))\n",
    "save_to_sent(test_data, \"test\")\n",
    "\n",
    "\n",
    "# # Act data\n",
    "\n",
    "# train_data = []\n",
    "# for i in range(train.shape[0]):\n",
    "#     train_data.append(get_unprocessed_row(train, i, \"act\"))\n",
    "# save_to_sent(train_data, \"train\", \"act\")\n",
    "\n",
    "# val_data = []\n",
    "# for i in range(val.shape[0]):\n",
    "#     val_data.append(get_unprocessed_row(val, i, \"act\"))\n",
    "# save_to_sent(val_data, \"val\", \"act\")\n",
    "\n",
    "# test_data = []\n",
    "# for i in range(test.shape[0]):\n",
    "#     test_data.append(get_unprocessed_row(test, i, \"act\"))\n",
    "# save_to_sent(test_data, \"test\", \"act\")"
   ]
  },
  {
   "cell_type": "code",
   "execution_count": 70,
   "metadata": {},
   "outputs": [
    {
     "name": "stdout",
     "output_type": "stream",
     "text": [
      "{1: 12500, 0: 12500}\n"
     ]
    },
    {
     "data": {
      "image/png": "[encoded data removed]",
      "text/plain": [
       "<Figure size 432x288 with 1 Axes>"
      ]
     },
     "metadata": {
      "needs_background": "light"
     },
     "output_type": "display_data"
    },
    {
     "name": "stdout",
     "output_type": "stream",
     "text": [
      "{1: 6233, 0: 6267}\n"
     ]
    },
    {
     "data": {
      "image/png": "[encoded data removed]",
      "text/plain": [
       "<Figure size 432x288 with 1 Axes>"
      ]
     },
     "metadata": {
      "needs_background": "light"
     },
     "output_type": "display_data"
    },
    {
     "name": "stdout",
     "output_type": "stream",
     "text": [
      "{0: 6233, 1: 6267}\n"
     ]
    },
    {
     "data": {
      "image/png": "[encoded data removed]",
      "text/plain": [
       "<Figure size 432x288 with 1 Axes>"
      ]
     },
     "metadata": {
      "needs_background": "light"
     },
     "output_type": "display_data"
    }
   ],
   "source": [
    "t1 = get_label_counts(train_data)\n",
    "plot_label_dist(t1)\n",
    "\n",
    "t2 = get_label_counts(val_data)\n",
    "plot_label_dist(t2)\n",
    "\n",
    "t3 = get_label_counts(test_data)\n",
    "plot_label_dist(t3)"
   ]
  },
  {
   "cell_type": "code",
   "execution_count": null,
   "metadata": {},
   "outputs": [],
   "source": []
  }
 ],
 "metadata": {
  "kernelspec": {
   "display_name": "Python 3",
   "language": "python",
   "name": "python3"
  },
  "language_info": {
   "codemirror_mode": {
    "name": "ipython",
    "version": 3
   },
   "file_extension": ".py",
   "mimetype": "text/x-python",
   "name": "python",
   "nbconvert_exporter": "python",
   "pygments_lexer": "ipython3",
   "version": "3.6.9"
  }
 },
 "nbformat": 4,
 "nbformat_minor": 2
}
