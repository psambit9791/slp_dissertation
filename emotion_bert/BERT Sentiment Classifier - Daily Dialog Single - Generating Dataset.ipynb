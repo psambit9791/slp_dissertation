{
 "cells": [
  {
   "cell_type": "code",
   "execution_count": 1,
   "metadata": {},
   "outputs": [],
   "source": [
    "import numpy as np\n",
    "import torch\n",
    "import random\n",
    "import pickle\n",
    "import pandas as pd\n",
    "\n",
    "import torch.nn as nn\n",
    "import torch.optim as optim\n",
    "\n",
    "from transformers import BertTokenizer, BertForSequenceClassification\n",
    "from sklearn.metrics import accuracy_score, classification_report, confusion_matrix\n",
    "from sklearn.preprocessing import OneHotEncoder\n",
    "\n",
    "from datasets import load_dataset\n",
    "\n",
    "\n",
    "### https://mccormickml.com/2019/07/22/BERT-fine-tuning/"
   ]
  },
  {
   "cell_type": "code",
   "execution_count": 2,
   "metadata": {},
   "outputs": [],
   "source": [
    "SEED = 42\n",
    "\n",
    "random.seed(SEED)\n",
    "np.random.seed(SEED)\n",
    "torch.manual_seed(SEED)\n",
    "torch.cuda.manual_seed(SEED)\n",
    "torch.backends.cudnn.deterministic = True"
   ]
  },
  {
   "cell_type": "code",
   "execution_count": 3,
   "metadata": {},
   "outputs": [
    {
     "name": "stdout",
     "output_type": "stream",
     "text": [
      "Using GeForce GTX 1060\n"
     ]
    }
   ],
   "source": [
    "if torch.cuda.is_available():\n",
    "    dev = torch.cuda.current_device()\n",
    "    torch.cuda.device(dev)\n",
    "    print(\"Using\", torch.cuda.get_device_name(0))\n",
    "else:\n",
    "    torch.device(\"cpu\")"
   ]
  },
  {
   "cell_type": "markdown",
   "metadata": {},
   "source": [
    "### Processing the data [DailyDialog] to make it task specific"
   ]
  },
  {
   "cell_type": "code",
   "execution_count": 4,
   "metadata": {},
   "outputs": [
    {
     "data": {
      "application/vnd.jupyter.widget-view+json": {
       "model_id": "24bdbbebf29949d5b0ad13373b19c889",
       "version_major": 2,
       "version_minor": 0
      },
      "text/plain": [
       "HBox(children=(FloatProgress(value=0.0, description='Downloading', max=2146.0, style=ProgressStyle(description…"
      ]
     },
     "metadata": {},
     "output_type": "display_data"
    },
    {
     "name": "stdout",
     "output_type": "stream",
     "text": [
      "\n"
     ]
    },
    {
     "data": {
      "application/vnd.jupyter.widget-view+json": {
       "model_id": "c9544985cfbf4939804ca478ac1d1f4f",
       "version_major": 2,
       "version_minor": 0
      },
      "text/plain": [
       "HBox(children=(FloatProgress(value=0.0, description='Downloading', max=1090.0, style=ProgressStyle(description…"
      ]
     },
     "metadata": {},
     "output_type": "display_data"
    },
    {
     "name": "stderr",
     "output_type": "stream",
     "text": [
      "Using custom data configuration default\n"
     ]
    },
    {
     "name": "stdout",
     "output_type": "stream",
     "text": [
      "\n",
      "Downloading and preparing dataset daily_dialog/default (download: 4.27 MiB, generated: 8.23 MiB, post-processed: Unknown size, total: 12.50 MiB) to /home/sambit/.cache/huggingface/datasets/daily_dialog/default/1.0.0/1781b6e74e1ba5c8b5bcbf7c210656d54474ec1a9b3feadc88a4fc229be2145c...\n"
     ]
    },
    {
     "data": {
      "application/vnd.jupyter.widget-view+json": {
       "model_id": "",
       "version_major": 2,
       "version_minor": 0
      },
      "text/plain": [
       "HBox(children=(FloatProgress(value=1.0, bar_style='info', layout=Layout(width='20px'), max=1.0), HTML(value=''…"
      ]
     },
     "metadata": {},
     "output_type": "display_data"
    },
    {
     "data": {
      "application/vnd.jupyter.widget-view+json": {
       "model_id": "",
       "version_major": 2,
       "version_minor": 0
      },
      "text/plain": [
       "HBox(children=(FloatProgress(value=1.0, bar_style='info', layout=Layout(width='20px'), max=1.0), HTML(value=''…"
      ]
     },
     "metadata": {},
     "output_type": "display_data"
    },
    {
     "data": {
      "application/vnd.jupyter.widget-view+json": {
       "model_id": "",
       "version_major": 2,
       "version_minor": 0
      },
      "text/plain": [
       "HBox(children=(FloatProgress(value=1.0, bar_style='info', layout=Layout(width='20px'), max=1.0), HTML(value=''…"
      ]
     },
     "metadata": {},
     "output_type": "display_data"
    },
    {
     "name": "stdout",
     "output_type": "stream",
     "text": [
      "Dataset daily_dialog downloaded and prepared to /home/sambit/.cache/huggingface/datasets/daily_dialog/default/1.0.0/1781b6e74e1ba5c8b5bcbf7c210656d54474ec1a9b3feadc88a4fc229be2145c. Subsequent calls will reuse this data.\n",
      "DatasetDict({\n",
      "    train: Dataset({\n",
      "        features: ['dialog', 'act', 'emotion'],\n",
      "        num_rows: 11118\n",
      "    })\n",
      "    test: Dataset({\n",
      "        features: ['dialog', 'act', 'emotion'],\n",
      "        num_rows: 1000\n",
      "    })\n",
      "    validation: Dataset({\n",
      "        features: ['dialog', 'act', 'emotion'],\n",
      "        num_rows: 1000\n",
      "    })\n",
      "})\n"
     ]
    }
   ],
   "source": [
    "dataset = load_dataset('daily_dialog')\n",
    "print(dataset)"
   ]
  },
  {
   "cell_type": "code",
   "execution_count": 5,
   "metadata": {},
   "outputs": [
    {
     "data": {
      "text/plain": [
       "OrderedDict([('act', [[3, 4, 2, 2, 2, 3, 4, 1, 3, 4], [2, 1, 2, 2, 1, 1]]),\n",
       "             ('dialog',\n",
       "              [['Say , Jim , how about going for a few beers after dinner ? ',\n",
       "                ' You know that is tempting but is really not good for our fitness . ',\n",
       "                ' What do you mean ? It will help us to relax . ',\n",
       "                \" Do you really think so ? I don't . It will just make us fat and act silly . Remember last time ? \",\n",
       "                \" I guess you are right.But what shall we do ? I don't feel like sitting at home . \",\n",
       "                ' I suggest a walk over to the gym where we can play singsong and meet some of our friends . ',\n",
       "                \" That's a good idea . I hear Mary and Sally often go there to play pingpong.Perhaps we can make a foursome with them . \",\n",
       "                ' Sounds great to me ! If they are willing , we could ask them to go dancing with us.That is excellent exercise and fun , too . ',\n",
       "                \" Good.Let ' s go now . \",\n",
       "                ' All right . '],\n",
       "               ['Can you do push-ups ? ',\n",
       "                \" Of course I can . It's a piece of cake ! Believe it or not , I can do 30 push-ups a minute . \",\n",
       "                \" Really ? I think that's impossible ! \",\n",
       "                ' You mean 30 push-ups ? ',\n",
       "                ' Yeah ! ',\n",
       "                \" It's easy . If you do exercise everyday , you can make it , too . \"]]),\n",
       "             ('emotion',\n",
       "              [[0, 0, 0, 0, 0, 0, 4, 4, 4, 4], [0, 0, 6, 0, 0, 0]])])"
      ]
     },
     "execution_count": 5,
     "metadata": {},
     "output_type": "execute_result"
    }
   ],
   "source": [
    "dataset['train'][:2]"
   ]
  },
  {
   "cell_type": "code",
   "execution_count": 29,
   "metadata": {},
   "outputs": [],
   "source": [
    "def split_data_into_lists(mode):\n",
    "    global dataset\n",
    "    temp_data = dataset[mode]\n",
    "    rows = []\n",
    "    \n",
    "    for i, d in enumerate(temp_data):\n",
    "        acts = d[\"act\"]\n",
    "        dialogs = d[\"dialog\"]\n",
    "        emotions = d[\"emotion\"]\n",
    "        \n",
    "        for idx in range(0, len(acts)):\n",
    "            if emotions[idx] == 0:\n",
    "                continue\n",
    "            rows.append([dialogs[idx], acts[idx], emotions[idx]])\n",
    "            \n",
    "    df = pd.DataFrame(data=rows, columns=['current_dialog', 'act', 'emotion'])\n",
    "    df.to_csv(\"data/daily_dialog_single/csv/\"+mode+\".csv\", index=False)"
   ]
  },
  {
   "cell_type": "code",
   "execution_count": 30,
   "metadata": {},
   "outputs": [],
   "source": [
    "### UNCOMMENT IF THE DATA SPLITTING PROCESS IS CHANGED\n",
    "split_data_into_lists(\"test\")\n",
    "split_data_into_lists(\"validation\")\n",
    "split_data_into_lists(\"train\")"
   ]
  },
  {
   "cell_type": "markdown",
   "metadata": {},
   "source": [
    "### Pre-processing for BERT"
   ]
  },
  {
   "cell_type": "code",
   "execution_count": 31,
   "metadata": {},
   "outputs": [
    {
     "name": "stdout",
     "output_type": "stream",
     "text": [
      "[[1. 0. 0. 0.]]\n",
      "[[0. 0. 0. 0. 1. 0. 0.]]\n"
     ]
    }
   ],
   "source": [
    "ohe_act = OneHotEncoder(handle_unknown='ignore')\n",
    "X = [[1], [2], [3], [4]]\n",
    "ohe_act.fit(X)\n",
    "\n",
    "# { 1: inform，2: question, 3: directive, 4: commissive }\n",
    "\n",
    "ohe_emo = OneHotEncoder(handle_unknown='ignore')\n",
    "X = [[0], [1], [2], [3], [4], [5], [6]]\n",
    "ohe_emo.fit(X)\n",
    "\n",
    "# { 0: no emotion, 1: anger, 2: disgust, 3: fear, 4: happiness, 5: sadness, 6: surprise}\n",
    "\n",
    "print(ohe_act.transform([[1]]).toarray())\n",
    "print(ohe_emo.transform([[4]]).toarray())"
   ]
  },
  {
   "cell_type": "code",
   "execution_count": 32,
   "metadata": {},
   "outputs": [],
   "source": [
    "def load_csv(mode):\n",
    "    df = pd.read_csv(\"data/daily_dialog_single/csv/\"+mode+\".csv\")\n",
    "    return df\n",
    "\n",
    "# Get the dialog from the generated dataframe\n",
    "def get_cell(df, row, column_name):\n",
    "    return df.loc[df.index[row], column_name]"
   ]
  },
  {
   "cell_type": "markdown",
   "metadata": {},
   "source": [
    "### Loading and tokenizing the data"
   ]
  },
  {
   "cell_type": "code",
   "execution_count": 33,
   "metadata": {},
   "outputs": [],
   "source": [
    "train = load_csv(\"train\")\n",
    "val = load_csv(\"validation\")\n",
    "test = load_csv(\"test\")"
   ]
  },
  {
   "cell_type": "code",
   "execution_count": 34,
   "metadata": {},
   "outputs": [
    {
     "name": "stdout",
     "output_type": "stream",
     "text": [
      "Original:  That's a good idea . I hear Mary and Sally often go there to play pingpong.Perhaps we can make a foursome with them . \n",
      "Tokenised: ['that', \"'\", 's', 'a', 'good', 'idea', '.', 'i', 'hear', 'mary', 'and', 'sally', 'often', 'go', 'there', 'to', 'play', 'ping', '##pon', '##g', '.', 'perhaps', 'we', 'can', 'make', 'a', 'fours', '##ome', 'with', 'them', '.']\n",
      "Token ID: [2008, 1005, 1055, 1037, 2204, 2801, 1012, 1045, 2963, 2984, 1998, 8836, 2411, 2175, 2045, 2000, 2377, 17852, 26029, 2290, 1012, 3383, 2057, 2064, 2191, 1037, 23817, 8462, 2007, 2068, 1012]\n"
     ]
    }
   ],
   "source": [
    "tokenizer = BertTokenizer.from_pretrained('bert-base-uncased', do_lower_case=True)\n",
    "sentence = get_cell(train, 0, \"current_dialog\")\n",
    "print(\"Original:\", sentence)\n",
    "tokenized = tokenizer.tokenize(sentence)\n",
    "print(\"Tokenised:\", tokenized)\n",
    "tokenided = tokenizer.convert_tokens_to_ids(tokenized)\n",
    "print(\"Token ID:\", tokenided)"
   ]
  },
  {
   "cell_type": "code",
   "execution_count": 35,
   "metadata": {},
   "outputs": [],
   "source": [
    "# Tokenize the current and previous dialog for a specific row\n",
    "# Can return emotion data or act data depending on \"mode\"\n",
    "\n",
    "max_previous_length = 0\n",
    "max_current_length = 0\n",
    "\n",
    "def get_processed_row(df, row, mode=\"emo\"):\n",
    "    global  max_previous_length\n",
    "    global max_current_length\n",
    "    \n",
    "    sentence = get_cell(df, row, \"current_dialog\")\n",
    "    tokenized = tokenizer.tokenize(sentence)\n",
    "    tokenided_c = tokenizer.convert_tokens_to_ids(tokenized)\n",
    "    \n",
    "    if len(tokenided_c) > max_current_length:\n",
    "        max_current_length = len(tokenided_c)\n",
    "    \n",
    "    label = None\n",
    "    \n",
    "    if mode == \"act\":\n",
    "        label = ohe_act.transform([[get_cell(df, row, \"act\")]]).toarray().flatten().tolist()\n",
    "    else:\n",
    "        label = ohe_emo.transform([[get_cell(df, row, \"emotion\")]]).toarray().flatten().tolist()\n",
    "    \n",
    "    return tokenided_c, label\n",
    "\n",
    "\n",
    "# Save the sentence with one hot encoded labels (can be used with encode_plus)\n",
    "\n",
    "def get_unprocessed_row(df, row, mode=\"emo\"):\n",
    "    global  max_previous_length\n",
    "    global max_current_length\n",
    "    \n",
    "    sentence_c = get_cell(df, row, \"current_dialog\")\n",
    "    \n",
    "    label = None\n",
    "    \n",
    "    if mode == \"act\":\n",
    "        label = get_cell(df, row, \"act\")\n",
    "    else:\n",
    "        label = get_cell(df, row, \"emotion\")\n",
    "    \n",
    "    return sentence_c, label"
   ]
  },
  {
   "cell_type": "code",
   "execution_count": 36,
   "metadata": {},
   "outputs": [],
   "source": [
    "### Save tokenised data\n",
    "\n",
    "def save_to_pkl(data, mode, dataset=\"emo\"):\n",
    "    with open(\"data/daily_dialog_single/pkl/\"+mode+\"_\"+dataset+\".pkl\", \"wb\") as f:\n",
    "        pickle.dump(data, f)\n",
    "\n",
    "def save_to_sent(data, mode, dataset=\"emo\"):\n",
    "    with open(\"data/daily_dialog_single/sent/\"+mode+\"_\"+dataset+\".pkl\", \"wb\") as f:\n",
    "        pickle.dump(data, f)"
   ]
  },
  {
   "cell_type": "markdown",
   "metadata": {},
   "source": [
    "### Generating PKLs for Emotion Data & Act Data (Sentences are tokenised)"
   ]
  },
  {
   "cell_type": "code",
   "execution_count": 37,
   "metadata": {},
   "outputs": [],
   "source": [
    "import matplotlib.pyplot as plt\n",
    "\n",
    "def plot_label_dist(label_dict):\n",
    "    cols = label_dict.keys()\n",
    "    vals = label_dict.values()\n",
    "    \n",
    "    print(label_dict)\n",
    "    \n",
    "    plt.bar(cols, vals)\n",
    "    plt.show()\n",
    "\n",
    "def get_label_counts(data):\n",
    "    label_count = {}\n",
    "    for d in data:\n",
    "        if d[1] == 0:\n",
    "            continue\n",
    "        try:\n",
    "            label_count[d[1]] += 1\n",
    "        except KeyError:\n",
    "            label_count[d[1]] = 1\n",
    "    return label_count"
   ]
  },
  {
   "cell_type": "code",
   "execution_count": 38,
   "metadata": {
    "scrolled": true
   },
   "outputs": [],
   "source": [
    "train_data = []\n",
    "for i in range(train.shape[0]):\n",
    "    train_data.append(get_processed_row(train, i))\n",
    "    \n",
    "save_to_pkl(train_data, \"train\")\n",
    "\n",
    "val_data = []\n",
    "for i in range(val.shape[0]):\n",
    "    val_data.append(get_processed_row(val, i))\n",
    "save_to_pkl(val_data, \"val\")\n",
    "\n",
    "test_data = []\n",
    "for i in range(test.shape[0]):\n",
    "    test_data.append(get_processed_row(test, i))\n",
    "save_to_pkl(test_data, \"test\")\n",
    "\n",
    "\n",
    "# train_data = []\n",
    "# for i in range(train.shape[0]):\n",
    "#     train_data.append(get_processed_row(train, i, \"act\"))\n",
    "# save_to_pkl(train_data, \"train\", \"act\")\n",
    "\n",
    "# val_data = []\n",
    "# for i in range(val.shape[0]):\n",
    "#     val_data.append(get_processed_row(val, i, \"act\"))\n",
    "# save_to_pkl(val_data, \"val\", \"act\")\n",
    "\n",
    "# test_data = []\n",
    "# for i in range(test.shape[0]):\n",
    "#     test_data.append(get_processed_row(test, i, \"act\"))\n",
    "# save_to_pkl(test_data, \"test\", \"act\")"
   ]
  },
  {
   "cell_type": "markdown",
   "metadata": {},
   "source": [
    "### Generating PKLs for Sentences"
   ]
  },
  {
   "cell_type": "code",
   "execution_count": 39,
   "metadata": {},
   "outputs": [],
   "source": [
    "# Emo data\n",
    "\n",
    "train_data = []\n",
    "for i in range(train.shape[0]):\n",
    "    train_data.append(get_unprocessed_row(train, i))\n",
    "save_to_sent(train_data, \"train\")\n",
    "\n",
    "val_data = []\n",
    "for i in range(val.shape[0]):\n",
    "    val_data.append(get_unprocessed_row(val, i))\n",
    "save_to_sent(val_data, \"val\")\n",
    "\n",
    "test_data = []\n",
    "for i in range(test.shape[0]):\n",
    "    test_data.append(get_unprocessed_row(test, i))\n",
    "save_to_sent(test_data, \"test\")\n",
    "\n",
    "\n",
    "# # Act data\n",
    "\n",
    "# train_data = []\n",
    "# for i in range(train.shape[0]):\n",
    "#     train_data.append(get_unprocessed_row(train, i, \"act\"))\n",
    "# save_to_sent(train_data, \"train\", \"act\")\n",
    "\n",
    "# val_data = []\n",
    "# for i in range(val.shape[0]):\n",
    "#     val_data.append(get_unprocessed_row(val, i, \"act\"))\n",
    "# save_to_sent(val_data, \"val\", \"act\")\n",
    "\n",
    "# test_data = []\n",
    "# for i in range(test.shape[0]):\n",
    "#     test_data.append(get_unprocessed_row(test, i, \"act\"))\n",
    "# save_to_sent(test_data, \"test\", \"act\")"
   ]
  },
  {
   "cell_type": "code",
   "execution_count": 40,
   "metadata": {},
   "outputs": [
    {
     "name": "stdout",
     "output_type": "stream",
     "text": [
      "{4: 11182, 6: 1600, 3: 146, 2: 303, 5: 969, 1: 827}\n"
     ]
    },
    {
     "data": {
      "image/png": "[encoded data removed]",
      "text/plain": [
       "<Figure size 432x288 with 1 Axes>"
      ]
     },
     "metadata": {
      "needs_background": "light"
     },
     "output_type": "display_data"
    },
    {
     "name": "stdout",
     "output_type": "stream",
     "text": [
      "{4: 684, 1: 77, 5: 79, 6: 107, 3: 11, 2: 3}\n"
     ]
    },
    {
     "data": {
      "image/png": "[encoded data removed]",
      "text/plain": [
       "<Figure size 432x288 with 1 Axes>"
      ]
     },
     "metadata": {
      "needs_background": "light"
     },
     "output_type": "display_data"
    },
    {
     "name": "stdout",
     "output_type": "stream",
     "text": [
      "{6: 116, 3: 17, 4: 1019, 5: 102, 1: 118, 2: 47}\n"
     ]
    },
    {
     "data": {
      "image/png": "[encoded data removed]",
      "text/plain": [
       "<Figure size 432x288 with 1 Axes>"
      ]
     },
     "metadata": {
      "needs_background": "light"
     },
     "output_type": "display_data"
    }
   ],
   "source": [
    "t1 = get_label_counts(train_data)\n",
    "plot_label_dist(t1)\n",
    "\n",
    "t2 = get_label_counts(val_data)\n",
    "plot_label_dist(t2)\n",
    "\n",
    "t3 = get_label_counts(test_data)\n",
    "plot_label_dist(t3)"
   ]
  },
  {
   "cell_type": "code",
   "execution_count": null,
   "metadata": {},
   "outputs": [],
   "source": []
  }
 ],
 "metadata": {
  "kernelspec": {
   "display_name": "Python 3",
   "language": "python",
   "name": "python3"
  },
  "language_info": {
   "codemirror_mode": {
    "name": "ipython",
    "version": 3
   },
   "file_extension": ".py",
   "mimetype": "text/x-python",
   "name": "python",
   "nbconvert_exporter": "python",
   "pygments_lexer": "ipython3",
   "version": "3.6.9"
  }
 },
 "nbformat": 4,
 "nbformat_minor": 2
}
