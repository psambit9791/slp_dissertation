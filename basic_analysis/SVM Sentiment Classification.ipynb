{
 "cells": [
  {
   "cell_type": "code",
   "execution_count": 2,
   "id": "140e287c",
   "metadata": {},
   "outputs": [],
   "source": [
    "import pandas as pd\n",
    "import numpy as np\n",
    "\n",
    "from sklearn.feature_extraction.text import TfidfVectorizer\n",
    "\n",
    "from sklearn.naive_bayes import MultinomialNB\n",
    "from sklearn.linear_model import LogisticRegression\n",
    "from sklearn.svm import LinearSVC\n",
    "\n",
    "from sklearn.metrics import f1_score\n",
    "from sklearn.metrics import accuracy_score\n",
    "from sklearn.metrics import classification_report"
   ]
  },
  {
   "cell_type": "code",
   "execution_count": 3,
   "id": "e65aa67f",
   "metadata": {},
   "outputs": [],
   "source": [
    "DATAPATH = \"../emotion_bert/data/imdb/csv/\"\n",
    "\n",
    "train = pd.read_csv(DATAPATH+\"train.csv\")\n",
    "\n",
    "valid = pd.read_csv(DATAPATH+\"validation.csv\")\n",
    "\n",
    "test = pd.read_csv(DATAPATH+\"test.csv\")\n"
   ]
  },
  {
   "cell_type": "code",
   "execution_count": null,
   "id": "c1c93d1a",
   "metadata": {},
   "outputs": [],
   "source": []
  },
  {
   "cell_type": "code",
   "execution_count": 5,
   "id": "45768e80",
   "metadata": {},
   "outputs": [
    {
     "ename": "AttributeError",
     "evalue": "'DataFrame' object has no attribute 'current_dialog'",
     "output_type": "error",
     "traceback": [
      "\u001b[0;31m---------------------------------------------------------------------------\u001b[0m",
      "\u001b[0;31mAttributeError\u001b[0m                            Traceback (most recent call last)",
      "\u001b[0;32m<ipython-input-5-eb1bf62e6af9>\u001b[0m in \u001b[0;36m<module>\u001b[0;34m\u001b[0m\n\u001b[1;32m      1\u001b[0m \u001b[0mtiv\u001b[0m \u001b[0;34m=\u001b[0m \u001b[0mTfidfVectorizer\u001b[0m\u001b[0;34m(\u001b[0m\u001b[0msublinear_tf\u001b[0m\u001b[0;34m=\u001b[0m\u001b[0;32mTrue\u001b[0m\u001b[0;34m,\u001b[0m \u001b[0mmin_df\u001b[0m\u001b[0;34m=\u001b[0m\u001b[0;36m5\u001b[0m\u001b[0;34m,\u001b[0m \u001b[0mnorm\u001b[0m\u001b[0;34m=\u001b[0m\u001b[0;34m'l2'\u001b[0m\u001b[0;34m,\u001b[0m\u001b[0mstop_words\u001b[0m\u001b[0;34m=\u001b[0m \u001b[0;34m'english'\u001b[0m\u001b[0;34m)\u001b[0m\u001b[0;34m\u001b[0m\u001b[0;34m\u001b[0m\u001b[0m\n\u001b[1;32m      2\u001b[0m \u001b[0;34m\u001b[0m\u001b[0m\n\u001b[0;32m----> 3\u001b[0;31m \u001b[0mtrain_features\u001b[0m \u001b[0;34m=\u001b[0m \u001b[0mtiv\u001b[0m\u001b[0;34m.\u001b[0m\u001b[0mfit_transform\u001b[0m\u001b[0;34m(\u001b[0m\u001b[0mtrain\u001b[0m\u001b[0;34m.\u001b[0m\u001b[0mcurrent_dialog\u001b[0m\u001b[0;34m)\u001b[0m\u001b[0;34m.\u001b[0m\u001b[0mtoarray\u001b[0m\u001b[0;34m(\u001b[0m\u001b[0;34m)\u001b[0m\u001b[0;34m\u001b[0m\u001b[0;34m\u001b[0m\u001b[0m\n\u001b[0m\u001b[1;32m      4\u001b[0m \u001b[0mtrain_labels\u001b[0m \u001b[0;34m=\u001b[0m \u001b[0mtrain\u001b[0m\u001b[0;34m.\u001b[0m\u001b[0memotion\u001b[0m\u001b[0;34m\u001b[0m\u001b[0;34m\u001b[0m\u001b[0m\n\u001b[1;32m      5\u001b[0m \u001b[0;34m\u001b[0m\u001b[0m\n",
      "\u001b[0;32m~/anaconda3/envs/pytorch_env/lib/python3.6/site-packages/pandas/core/generic.py\u001b[0m in \u001b[0;36m__getattr__\u001b[0;34m(self, name)\u001b[0m\n\u001b[1;32m   5177\u001b[0m             \u001b[0;32mif\u001b[0m \u001b[0mself\u001b[0m\u001b[0;34m.\u001b[0m\u001b[0m_info_axis\u001b[0m\u001b[0;34m.\u001b[0m\u001b[0m_can_hold_identifiers_and_holds_name\u001b[0m\u001b[0;34m(\u001b[0m\u001b[0mname\u001b[0m\u001b[0;34m)\u001b[0m\u001b[0;34m:\u001b[0m\u001b[0;34m\u001b[0m\u001b[0;34m\u001b[0m\u001b[0m\n\u001b[1;32m   5178\u001b[0m                 \u001b[0;32mreturn\u001b[0m \u001b[0mself\u001b[0m\u001b[0;34m[\u001b[0m\u001b[0mname\u001b[0m\u001b[0;34m]\u001b[0m\u001b[0;34m\u001b[0m\u001b[0;34m\u001b[0m\u001b[0m\n\u001b[0;32m-> 5179\u001b[0;31m             \u001b[0;32mreturn\u001b[0m \u001b[0mobject\u001b[0m\u001b[0;34m.\u001b[0m\u001b[0m__getattribute__\u001b[0m\u001b[0;34m(\u001b[0m\u001b[0mself\u001b[0m\u001b[0;34m,\u001b[0m \u001b[0mname\u001b[0m\u001b[0;34m)\u001b[0m\u001b[0;34m\u001b[0m\u001b[0;34m\u001b[0m\u001b[0m\n\u001b[0m\u001b[1;32m   5180\u001b[0m \u001b[0;34m\u001b[0m\u001b[0m\n\u001b[1;32m   5181\u001b[0m     \u001b[0;32mdef\u001b[0m \u001b[0m__setattr__\u001b[0m\u001b[0;34m(\u001b[0m\u001b[0mself\u001b[0m\u001b[0;34m,\u001b[0m \u001b[0mname\u001b[0m\u001b[0;34m,\u001b[0m \u001b[0mvalue\u001b[0m\u001b[0;34m)\u001b[0m\u001b[0;34m:\u001b[0m\u001b[0;34m\u001b[0m\u001b[0;34m\u001b[0m\u001b[0m\n",
      "\u001b[0;31mAttributeError\u001b[0m: 'DataFrame' object has no attribute 'current_dialog'"
     ]
    }
   ],
   "source": [
    "tiv = TfidfVectorizer(sublinear_tf=True, min_df=5, norm='l2',stop_words= 'english')\n",
    "\n",
    "train_features = tiv.fit_transform(train.).toarray()\n",
    "train_labels = train.emotion\n",
    "\n",
    "valid_features = tiv.transform(valid.current_dialog).toarray()\n",
    "valid_labels = valid.emotion"
   ]
  },
  {
   "cell_type": "markdown",
   "id": "5fb4d2ec",
   "metadata": {},
   "source": [
    "### Utility Functions"
   ]
  },
  {
   "cell_type": "code",
   "execution_count": 36,
   "id": "b60a4117",
   "metadata": {},
   "outputs": [],
   "source": [
    "def compute_accuracy(true, pred):\n",
    "    print(accuracy_score(true, pred))\n",
    "    \n",
    "def compute_f1(true, pred):\n",
    "    print(f1_score(true, pred, average=\"macro\"))"
   ]
  },
  {
   "cell_type": "markdown",
   "id": "98e93bc5",
   "metadata": {},
   "source": [
    "### Naive Bayes"
   ]
  },
  {
   "cell_type": "code",
   "execution_count": 38,
   "id": "41cd288c",
   "metadata": {},
   "outputs": [
    {
     "name": "stdout",
     "output_type": "stream",
     "text": [
      "0.7741935483870968\n",
      "0.330188512442852\n"
     ]
    },
    {
     "name": "stderr",
     "output_type": "stream",
     "text": [
      "/home/sambit/anaconda3/envs/pytorch_env/lib/python3.6/site-packages/sklearn/metrics/classification.py:1437: UndefinedMetricWarning: F-score is ill-defined and being set to 0.0 in labels with no predicted samples.\n",
      "  'precision', 'predicted', average, warn_for)\n"
     ]
    }
   ],
   "source": [
    "clf = MultinomialNB().fit(train_features, train_labels)\n",
    "valid_predict = clf.predict(valid_features)\n",
    "\n",
    "compute_accuracy(valid_labels, valid_predict)\n",
    "compute_f1(valid_labels, valid_predict)"
   ]
  },
  {
   "cell_type": "markdown",
   "id": "e5926a89",
   "metadata": {},
   "source": [
    "### Logistic Regression"
   ]
  },
  {
   "cell_type": "code",
   "execution_count": 42,
   "id": "e4c50ece",
   "metadata": {},
   "outputs": [
    {
     "name": "stdout",
     "output_type": "stream",
     "text": [
      "0.8012486992715921\n",
      "0.43627739219844486\n"
     ]
    },
    {
     "name": "stderr",
     "output_type": "stream",
     "text": [
      "/home/sambit/anaconda3/envs/pytorch_env/lib/python3.6/site-packages/sklearn/metrics/classification.py:1437: UndefinedMetricWarning: F-score is ill-defined and being set to 0.0 in labels with no predicted samples.\n",
      "  'precision', 'predicted', average, warn_for)\n"
     ]
    }
   ],
   "source": [
    "clf = LogisticRegression(solver=\"newton-cg\", multi_class=\"ovr\").fit(train_features, train_labels)\n",
    "valid_predict = clf.predict(valid_features)\n",
    "\n",
    "compute_accuracy(valid_labels, valid_predict)\n",
    "compute_f1(valid_labels, valid_predict)"
   ]
  },
  {
   "cell_type": "markdown",
   "id": "38b9d9af",
   "metadata": {},
   "source": [
    "### SVC"
   ]
  },
  {
   "cell_type": "code",
   "execution_count": 43,
   "id": "86911da6",
   "metadata": {},
   "outputs": [
    {
     "name": "stdout",
     "output_type": "stream",
     "text": [
      "0.8147762747138397\n",
      "0.4813635402565763\n"
     ]
    }
   ],
   "source": [
    "clf = LinearSVC(multi_class=\"ovr\").fit(train_features, train_labels)\n",
    "valid_predict = clf.predict(valid_features)\n",
    "\n",
    "compute_accuracy(valid_labels, valid_predict)\n",
    "compute_f1(valid_labels, valid_predict)"
   ]
  },
  {
   "cell_type": "markdown",
   "id": "bf295f90",
   "metadata": {},
   "source": [
    "### Best Model on Test Data"
   ]
  },
  {
   "cell_type": "code",
   "execution_count": 44,
   "id": "088d6acd",
   "metadata": {},
   "outputs": [
    {
     "name": "stdout",
     "output_type": "stream",
     "text": [
      "0.7984496124031008\n",
      "0.5180281635258338\n"
     ]
    }
   ],
   "source": [
    "test_features = tiv.transform(test.current_dialog).toarray()\n",
    "test_labels = test.emotion\n",
    "\n",
    "test_predict = clf.predict(test_features)\n",
    "\n",
    "compute_accuracy(test_labels, test_predict)\n",
    "compute_f1(test_labels, test_predict)"
   ]
  },
  {
   "cell_type": "code",
   "execution_count": 47,
   "id": "f8485bd3",
   "metadata": {},
   "outputs": [
    {
     "name": "stdout",
     "output_type": "stream",
     "text": [
      "              precision    recall  f1-score   support\n",
      "\n",
      "           1       0.69      0.34      0.45       118\n",
      "           2       0.67      0.21      0.32        47\n",
      "           3       0.56      0.29      0.38        17\n",
      "           4       0.84      0.96      0.89      1019\n",
      "           5       0.73      0.50      0.59       102\n",
      "           6       0.49      0.43      0.46       116\n",
      "\n",
      "    accuracy                           0.80      1419\n",
      "   macro avg       0.66      0.46      0.52      1419\n",
      "weighted avg       0.78      0.80      0.78      1419\n",
      "\n"
     ]
    }
   ],
   "source": [
    "print(classification_report(test_labels, test_predict))"
   ]
  },
  {
   "cell_type": "code",
   "execution_count": null,
   "id": "dbcda8bf",
   "metadata": {},
   "outputs": [],
   "source": []
  }
 ],
 "metadata": {
  "kernelspec": {
   "display_name": "Python 3",
   "language": "python",
   "name": "python3"
  },
  "language_info": {
   "codemirror_mode": {
    "name": "ipython",
    "version": 3
   },
   "file_extension": ".py",
   "mimetype": "text/x-python",
   "name": "python",
   "nbconvert_exporter": "python",
   "pygments_lexer": "ipython3",
   "version": "3.6.9"
  }
 },
 "nbformat": 4,
 "nbformat_minor": 5
}
