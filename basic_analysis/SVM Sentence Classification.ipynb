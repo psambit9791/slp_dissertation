{
 "cells": [
  {
   "cell_type": "code",
   "execution_count": 45,
   "id": "140e287c",
   "metadata": {},
   "outputs": [],
   "source": [
    "import pandas as pd\n",
    "import numpy as np\n",
    "\n",
    "from sklearn.feature_extraction.text import TfidfVectorizer\n",
    "\n",
    "from sklearn.naive_bayes import MultinomialNB\n",
    "from sklearn.linear_model import LogisticRegression\n",
    "from sklearn.svm import LinearSVC\n",
    "\n",
    "from sklearn.metrics import f1_score\n",
    "from sklearn.metrics import accuracy_score\n",
    "from sklearn.metrics import classification_report"
   ]
  },
  {
   "cell_type": "code",
   "execution_count": 31,
   "id": "e65aa67f",
   "metadata": {},
   "outputs": [],
   "source": [
    "DATAPATH = \"../emotion_bert/data/daily_dialog_single/csv/\"\n",
    "\n",
    "train = pd.read_csv(DATAPATH+\"train.csv\")\n",
    "train = train.drop(columns=[\"act\"])\n",
    "\n",
    "valid = pd.read_csv(DATAPATH+\"validation.csv\")\n",
    "valid = valid.drop(columns=[\"act\"])\n",
    "\n",
    "test = pd.read_csv(DATAPATH+\"test.csv\")\n",
    "test = test.drop(columns=[\"act\"])"
   ]
  },
  {
   "cell_type": "code",
   "execution_count": 32,
   "id": "45768e80",
   "metadata": {},
   "outputs": [],
   "source": [
    "tiv = TfidfVectorizer(sublinear_tf=True, min_df=5, norm='l2',stop_words= 'english')\n",
    "\n",
    "train_features = tiv.fit_transform(train.current_dialog).toarray()\n",
    "train_labels = train.emotion\n",
    "\n",
    "valid_features = tiv.transform(valid.current_dialog).toarray()\n",
    "valid_labels = valid.emotion"
   ]
  },
  {
   "cell_type": "markdown",
   "id": "5fb4d2ec",
   "metadata": {},
   "source": [
    "### Utility Functions"
   ]
  },
  {
   "cell_type": "code",
   "execution_count": 36,
   "id": "b60a4117",
   "metadata": {},
   "outputs": [],
   "source": [
    "def compute_accuracy(true, pred):\n",
    "    print(accuracy_score(true, pred))\n",
    "    \n",
    "def compute_f1(true, pred):\n",
    "    print(f1_score(true, pred, average=\"macro\"))"
   ]
  },
  {
   "cell_type": "markdown",
   "id": "98e93bc5",
   "metadata": {},
   "source": [
    "### Naive Bayes"
   ]
  },
  {
   "cell_type": "code",
   "execution_count": 38,
   "id": "41cd288c",
   "metadata": {},
   "outputs": [
    {
     "name": "stdout",
     "output_type": "stream",
     "text": [
      "0.7741935483870968\n",
      "0.330188512442852\n"
     ]
    },
    {
     "name": "stderr",
     "output_type": "stream",
     "text": [
      "/home/sambit/anaconda3/envs/pytorch_env/lib/python3.6/site-packages/sklearn/metrics/classification.py:1437: UndefinedMetricWarning: F-score is ill-defined and being set to 0.0 in labels with no predicted samples.\n",
      "  'precision', 'predicted', average, warn_for)\n"
     ]
    }
   ],
   "source": [
    "clf = MultinomialNB().fit(train_features, train_labels)\n",
    "valid_predict = clf.predict(valid_features)\n",
    "\n",
    "compute_accuracy(valid_labels, valid_predict)\n",
    "compute_f1(valid_labels, valid_predict)"
   ]
  },
  {
   "cell_type": "markdown",
   "id": "e5926a89",
   "metadata": {},
   "source": [
    "### Logistic Regression"
   ]
  },
  {
   "cell_type": "code",
   "execution_count": 42,
   "id": "e4c50ece",
   "metadata": {},
   "outputs": [
    {
     "name": "stdout",
     "output_type": "stream",
     "text": [
      "0.8012486992715921\n",
      "0.43627739219844486\n"
     ]
    },
    {
     "name": "stderr",
     "output_type": "stream",
     "text": [
      "/home/sambit/anaconda3/envs/pytorch_env/lib/python3.6/site-packages/sklearn/metrics/classification.py:1437: UndefinedMetricWarning: F-score is ill-defined and being set to 0.0 in labels with no predicted samples.\n",
      "  'precision', 'predicted', average, warn_for)\n"
     ]
    }
   ],
   "source": [
    "clf = LogisticRegression(solver=\"newton-cg\", multi_class=\"ovr\").fit(train_features, train_labels)\n",
    "valid_predict = clf.predict(valid_features)\n",
    "\n",
    "compute_accuracy(valid_labels, valid_predict)\n",
    "compute_f1(valid_labels, valid_predict)"
   ]
  },
  {
   "cell_type": "markdown",
   "id": "38b9d9af",
   "metadata": {},
   "source": [
    "### SVC"
   ]
  },
  {
   "cell_type": "code",
   "execution_count": 43,
   "id": "86911da6",
   "metadata": {},
   "outputs": [
    {
     "name": "stdout",
     "output_type": "stream",
     "text": [
      "0.8147762747138397\n",
      "0.4813635402565763\n"
     ]
    }
   ],
   "source": [
    "clf = LinearSVC(multi_class=\"ovr\").fit(train_features, train_labels)\n",
    "valid_predict = clf.predict(valid_features)\n",
    "\n",
    "compute_accuracy(valid_labels, valid_predict)\n",
    "compute_f1(valid_labels, valid_predict)"
   ]
  },
  {
   "cell_type": "markdown",
   "id": "bf295f90",
   "metadata": {},
   "source": [
    "### Best Model on Test Data"
   ]
  },
  {
   "cell_type": "code",
   "execution_count": 44,
   "id": "088d6acd",
   "metadata": {},
   "outputs": [
    {
     "name": "stdout",
     "output_type": "stream",
     "text": [
      "0.7984496124031008\n",
      "0.5180281635258338\n"
     ]
    }
   ],
   "source": [
    "test_features = tiv.transform(test.current_dialog).toarray()\n",
    "test_labels = test.emotion\n",
    "\n",
    "test_predict = clf.predict(test_features)\n",
    "\n",
    "compute_accuracy(test_labels, test_predict)\n",
    "compute_f1(test_labels, test_predict)"
   ]
  },
  {
   "cell_type": "code",
   "execution_count": 47,
   "id": "f8485bd3",
   "metadata": {},
   "outputs": [
    {
     "name": "stdout",
     "output_type": "stream",
     "text": [
      "              precision    recall  f1-score   support\n",
      "\n",
      "           1       0.69      0.34      0.45       118\n",
      "           2       0.67      0.21      0.32        47\n",
      "           3       0.56      0.29      0.38        17\n",
      "           4       0.84      0.96      0.89      1019\n",
      "           5       0.73      0.50      0.59       102\n",
      "           6       0.49      0.43      0.46       116\n",
      "\n",
      "    accuracy                           0.80      1419\n",
      "   macro avg       0.66      0.46      0.52      1419\n",
      "weighted avg       0.78      0.80      0.78      1419\n",
      "\n"
     ]
    }
   ],
   "source": [
    "print(classification_report(test_labels, test_predict))"
   ]
  },
  {
   "cell_type": "code",
   "execution_count": null,
   "id": "dbcda8bf",
   "metadata": {},
   "outputs": [],
   "source": []
  }
 ],
 "metadata": {
  "kernelspec": {
   "display_name": "Python 3",
   "language": "python",
   "name": "python3"
  },
  "language_info": {
   "codemirror_mode": {
    "name": "ipython",
    "version": 3
   },
   "file_extension": ".py",
   "mimetype": "text/x-python",
   "name": "python",
   "nbconvert_exporter": "python",
   "pygments_lexer": "ipython3",
   "version": "3.6.9"
  }
 },
 "nbformat": 4,
 "nbformat_minor": 5
}
